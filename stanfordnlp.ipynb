{
 "cells": [
  {
   "cell_type": "code",
   "execution_count": 2,
   "metadata": {},
   "outputs": [
    {
     "name": "stdout",
     "output_type": "stream",
     "text": [
      "---\n",
      "input text\n",
      "\n",
      "Chris Manning is a nice person. Chris wrote a simple sentence. He also gives oranges to people.\n",
      "---\n",
      "starting up Java Stanford CoreNLP Server...\n",
      "Starting server with command: java -Xmx16G -cp stanford-corenlp-full-2018-10-05/* edu.stanford.nlp.pipeline.StanfordCoreNLPServer -port 9000 -timeout 30000 -threads 5 -maxCharLength 100000 -quiet True -serverProperties corenlp_server-a26771b25ac64f06.props -preload tokenize,ssplit,pos,lemma,ner,depparse,coref\n"
     ]
    }
   ],
   "source": [
    "from stanfordnlp.server import CoreNLPClient\n",
    "# example text\n",
    "import os\n",
    "\n",
    "os.environ['CORENLP_HOME']=\"stanford-corenlp-full-2018-10-05\"\n",
    "print('---')\n",
    "print('input text')\n",
    "print('')\n",
    "text = \"Chris Manning is a nice person. Chris wrote a simple sentence. He also gives oranges to people.\"\n",
    "print(text)\n",
    "# set up the client\n",
    "print('---')\n",
    "print('starting up Java Stanford CoreNLP Server...')\n",
    "# set up the client\n",
    "with CoreNLPClient(annotators=['tokenize','ssplit','pos','lemma','ner','depparse','coref'], timeout=30000, memory='16G') as client:\n",
    "    # submit the request to the server\n",
    "    ann = client.annotate(text)\n",
    "    # get the first sentence\n",
    "    sentence = ann.sentence[0]"
   ]
  },
  {
   "cell_type": "code",
   "execution_count": 23,
   "metadata": {},
   "outputs": [
    {
     "name": "stdout",
     "output_type": "stream",
     "text": [
      "Starting server with command: java -Xmx16G -cp stanford-corenlp-full-2018-10-05/* edu.stanford.nlp.pipeline.StanfordCoreNLPServer -port 9000 -timeout 30000 -threads 5 -maxCharLength 100000 -quiet True -serverProperties corenlp_server-8ae12d7a660143cd.props -preload tokenize,ssplit,pos,lemma,ner,depparse,coref\n"
     ]
    }
   ],
   "source": [
    "text=\"October is one of my favorite months of the year, and this year I got to enjoy it in three countries. I do enjoy drinking pumpkin spice lattes while draped in layers of flannel and tall boots as much as the next basic bitch, but it’s more than that.\"\n",
    "with CoreNLPClient(annotators=['tokenize','ssplit','pos','lemma','ner','depparse','coref'], timeout=30000, memory='16G') as client:\n",
    "    # submit the request to the server\n",
    "    ann = client.annotate(text)    # get the first sentence\n",
    "    sentence = ann.sentence[0]"
   ]
  },
  {
   "cell_type": "code",
   "execution_count": 24,
   "metadata": {},
   "outputs": [
    {
     "name": "stdout",
     "output_type": "stream",
     "text": [
      "('October', 'DATE')\n",
      "('is', 'O')\n",
      "('one', 'NUMBER')\n",
      "('of', 'O')\n",
      "('my', 'O')\n",
      "('favorite', 'O')\n",
      "('months', 'DATE')\n",
      "('of', 'DATE')\n",
      "('the', 'DATE')\n",
      "('year', 'DATE')\n",
      "(',', 'O')\n",
      "('and', 'O')\n",
      "('this', 'DATE')\n",
      "('year', 'DATE')\n",
      "('I', 'O')\n",
      "('got', 'O')\n",
      "('to', 'O')\n",
      "('enjoy', 'O')\n",
      "('it', 'O')\n",
      "('in', 'O')\n",
      "('three', 'NUMBER')\n",
      "('countries', 'O')\n",
      "('.', 'O')\n",
      "('I', 'O')\n",
      "('do', 'O')\n",
      "('enjoy', 'O')\n",
      "('drinking', 'O')\n",
      "('pumpkin', 'O')\n",
      "('spice', 'O')\n",
      "('lattes', 'O')\n",
      "('while', 'O')\n",
      "('draped', 'O')\n",
      "('in', 'O')\n",
      "('layers', 'O')\n",
      "('of', 'O')\n",
      "('flannel', 'O')\n",
      "('and', 'O')\n",
      "('tall', 'O')\n",
      "('boots', 'O')\n",
      "('as', 'O')\n",
      "('much', 'O')\n",
      "('as', 'O')\n",
      "('the', 'O')\n",
      "('next', 'O')\n",
      "('basic', 'O')\n",
      "('bitch', 'O')\n",
      "(',', 'O')\n",
      "('but', 'O')\n",
      "('it', 'O')\n",
      "(\"'s\", 'O')\n",
      "('more', 'O')\n",
      "('than', 'O')\n",
      "('that', 'O')\n",
      "('.', 'O')\n"
     ]
    }
   ],
   "source": [
    "for sen in ann.sentence:\n",
    "    for i in sen.token:\n",
    "        print((i.word, i.ner))"
   ]
  },
  {
   "cell_type": "code",
   "execution_count": null,
   "metadata": {},
   "outputs": [],
   "source": []
  }
 ],
 "metadata": {
  "kernelspec": {
   "display_name": "Python 3",
   "language": "python",
   "name": "python3"
  },
  "language_info": {
   "codemirror_mode": {
    "name": "ipython",
    "version": 3
   },
   "file_extension": ".py",
   "mimetype": "text/x-python",
   "name": "python",
   "nbconvert_exporter": "python",
   "pygments_lexer": "ipython3",
   "version": "3.7.4"
  }
 },
 "nbformat": 4,
 "nbformat_minor": 2
}
